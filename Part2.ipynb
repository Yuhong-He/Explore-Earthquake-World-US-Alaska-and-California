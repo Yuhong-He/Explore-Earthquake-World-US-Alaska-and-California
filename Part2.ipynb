{
 "cells": [
  {
   "cell_type": "markdown",
   "id": "46f95578-8512-4ae9-8c5b-cbb4684c1d04",
   "metadata": {},
   "source": [
    "# 30 Days Global Earthquake B-Value Report Generator\n",
    "## COMP41680/COMP47670 Assignment 1"
   ]
  },
  {
   "cell_type": "markdown",
   "id": "1da9ad8f-5cfc-42c8-bc57-ba73cbceeec6",
   "metadata": {},
   "source": [
    "### Task 2: Data Preparation and Analysis"
   ]
  },
  {
   "cell_type": "markdown",
   "id": "43b55c6e-c34e-4fe7-974b-d2bfb51968ca",
   "metadata": {},
   "source": [
    "##### Data Preparation"
   ]
  },
  {
   "cell_type": "markdown",
   "id": "a72bd793-c95b-43b9-bcf3-39193885668f",
   "metadata": {},
   "source": [
    "###### Step 1: Extract useful data from json"
   ]
  },
  {
   "cell_type": "code",
   "execution_count": 1,
   "id": "9ed10010-6d43-40a6-957d-92bcc90c704a",
   "metadata": {},
   "outputs": [],
   "source": [
    "import json\n",
    "\n",
    "with open(\"data/earthquake.json\", \"r\") as json_file:\n",
    "    data = json.load(json_file)\n",
    "\n",
    "earthquakes = data[\"features\"]"
   ]
  },
  {
   "cell_type": "markdown",
   "id": "821025b5-5d09-4d6b-9332-42b39789283d",
   "metadata": {},
   "source": [
    "###### Step 3: Loop earthquakes and extract useful data, parse the country and store in a csv"
   ]
  },
  {
   "cell_type": "code",
   "execution_count": 2,
   "id": "b6f36bb1-4970-403d-b7ee-7d3369ed5784",
   "metadata": {},
   "outputs": [
    {
     "name": "stdout",
     "output_type": "stream",
     "text": [
      "Skip us6000m4l0 (western Indian-Antarctic Ridge)\n",
      "Skip us7000ltrn (Kermadec Islands region)\n",
      "Skip us6000m4ej (South Sandwich Islands region)\n",
      "Skip us7000ltrg (South Sandwich Islands region)\n",
      "Skip us6000m4dj (north of Franz Josef Land)\n",
      "Skip us6000m4d4 (South Sandwich Islands region)\n",
      "Skip us6000m4c1 (south of the Fiji Islands)\n"
     ]
    }
   ],
   "source": [
    "from datetime import datetime\n",
    "from util import transform_country_name\n",
    "\n",
    "earthquake_list = []\n",
    "\n",
    "for earthquake in earthquakes:\n",
    "    place = earthquake[\"properties\"][\"place\"]\n",
    "    if place is not None and ',' in place:\n",
    "        country = place.split(',')[-1].strip()\n",
    "        transformed_country = transform_country_name(country)\n",
    "        if transformed_country is not None:\n",
    "            earthquake_list.append({\n",
    "                \"id\": earthquake[\"id\"],\n",
    "                \"time\": datetime.fromtimestamp(earthquake[\"properties\"][\"time\"] / 1000).strftime(\"%Y-%m-%d %H:%M:%S\"),\n",
    "                \"mag\": earthquake[\"properties\"][\"mag\"],\n",
    "                \"long\": earthquake[\"geometry\"][\"coordinates\"][0],\n",
    "                \"lat\": earthquake[\"geometry\"][\"coordinates\"][1],\n",
    "                \"place\": place,\n",
    "                \"country\": transformed_country\n",
    "            })\n",
    "        else: # country not in the transform function\n",
    "            print(\"Can not transform country: \" + country)\n",
    "    else: # earthquakes far from any country\n",
    "        print(\"Skip \" + earthquake[\"id\"] + \" (\" + place + \")\")"
   ]
  },
  {
   "cell_type": "code",
   "execution_count": 3,
   "id": "7dbe1c12-58d4-4954-93e8-966f24f5c010",
   "metadata": {
    "scrolled": false
   },
   "outputs": [
    {
     "data": {
      "application/vnd.jupyter.widget-view+json": {
       "model_id": "6af25fae7e4e480a82039dca0a7d5719",
       "version_major": 2,
       "version_minor": 0
      },
      "text/plain": [
       "Map(center=[0, 0], controls=(ZoomControl(options=['position', 'zoom_in_text', 'zoom_in_title', 'zoom_out_text'…"
      ]
     },
     "execution_count": 3,
     "metadata": {},
     "output_type": "execute_result"
    }
   ],
   "source": [
    "import geopandas as gpd\n",
    "from ipyleaflet import Map, basemaps, GeoData\n",
    "from ipywidgets import HTML\n",
    "\n",
    "# 读取 SHP 文件\n",
    "world_shp = gpd.read_file('data/map/World_Countries_Generalized.shp')\n",
    "\n",
    "# 创建地图\n",
    "m = Map(center=(0, 0), zoom=2, basemap=basemaps.OpenStreetMap.Mapnik)\n",
    "\n",
    "# 创建 GeoData 对象并添加到地图中\n",
    "geo_data = GeoData(geo_dataframe=world_shp,\n",
    "                   style={'color': 'grey', 'opacity': 0.3, 'weight': 1.9, 'dashArray': '9', 'fillOpacity': 1},\n",
    "                   hover_style={'fillColor': 'red' , 'fillOpacity': 0.2},\n",
    "                   name='World Map')\n",
    "# 定义点击事件处理程序\n",
    "def handle_click(event, feature, **kwargs):\n",
    "    # 获取点击的属性信息\n",
    "    properties = feature['properties']\n",
    "    # 获取国家名称\n",
    "    country_name = properties['COUNTRY']\n",
    "    \n",
    "    # 创建 HTML 小部件来显示信息\n",
    "    html = HTML()\n",
    "    html.value = f'<b>Country:</b> {country_name}'\n",
    "    \n",
    "    # 显示 HTML 小部件\n",
    "    display(html)\n",
    "\n",
    "# 将点击事件处理程序绑定到地图的点击事件上\n",
    "geo_data.on_click(handle_click)\n",
    "\n",
    "m.add_layer(geo_data)\n",
    "\n",
    "# 显示地图\n",
    "m"
   ]
  },
  {
   "cell_type": "code",
   "execution_count": 4,
   "id": "dfbc9ac8",
   "metadata": {},
   "outputs": [
    {
     "name": "stdout",
     "output_type": "stream",
     "text": [
      "   FID         COUNTRY ISO     COUNTRYAFF AFF_ISO  SHAPE_Leng  SHAPE_Area  \\\n",
      "0    1     Afghanistan  AF    Afghanistan      AF   50.803210   62.566714   \n",
      "1    2         Albania  AL        Albania      AL    9.625038    3.073540   \n",
      "2    3         Algeria  DZ        Algeria      DZ   70.540082  213.513461   \n",
      "3    4  American Samoa  AS  United States      US    0.600124    0.013720   \n",
      "4    5         Andorra  AD        Andorra      AD    0.937352    0.055585   \n",
      "\n",
      "                                            geometry  \n",
      "0  POLYGON ((61.27655 35.60725, 61.29638 35.62854...  \n",
      "1  POLYGON ((19.57083 41.68527, 19.58195 41.69569...  \n",
      "2  POLYGON ((4.60335 36.88791, 4.63555 36.88638, ...  \n",
      "3  POLYGON ((-170.74390 -14.37555, -170.74942 -14...  \n",
      "4  POLYGON ((1.44584 42.60194, 1.48653 42.65042, ...  \n"
     ]
    }
   ],
   "source": [
    "print(world_shp.head())"
   ]
  },
  {
   "cell_type": "code",
   "execution_count": 5,
   "id": "e80484c6",
   "metadata": {},
   "outputs": [],
   "source": [
    "# %%time\n",
    "# import urllib.request, json\n",
    "\n",
    "# url = \"https://earthquake.usgs.gov/fdsnws/event/1/query?format=geojson&starttime=2014-01-01&endtime=2014-01-31\"\n",
    "# print(\"GET \" + url)\n",
    "# response = urllib.request.urlopen(url)\n",
    "# raw_json = response.read().decode(\"utf-8\")\n",
    "# data = json.loads(raw_json)\n",
    "# earthquakes = data[\"features\"]\n",
    "\n",
    "# from datetime import datetime\n",
    "# from util import transform_country_name\n",
    "\n",
    "# place_list = []\n",
    "\n",
    "# for earthquake in earthquakes:\n",
    "#     place = earthquake[\"properties\"][\"place\"]\n",
    "#     if place is not None and ',' in place:\n",
    "#         country = place.split(',')[-1].strip()\n",
    "#         transformed_country = transform_country_name(country)\n",
    "#         if transformed_country is None:\n",
    "#             if country not in place_list:\n",
    "#                 place_list.append(country)\n",
    "        \n",
    "# place_list.sort()\n",
    "# print(place_list)"
   ]
  },
  {
   "cell_type": "code",
   "execution_count": null,
   "id": "cf248328",
   "metadata": {},
   "outputs": [],
   "source": []
  }
 ],
 "metadata": {
  "kernelspec": {
   "display_name": "Python 3 (ipykernel)",
   "language": "python",
   "name": "python3"
  },
  "language_info": {
   "codemirror_mode": {
    "name": "ipython",
    "version": 3
   },
   "file_extension": ".py",
   "mimetype": "text/x-python",
   "name": "python",
   "nbconvert_exporter": "python",
   "pygments_lexer": "ipython3",
   "version": "3.11.5"
  }
 },
 "nbformat": 4,
 "nbformat_minor": 5
}
