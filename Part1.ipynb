{
 "cells": [
  {
   "cell_type": "markdown",
   "id": "6d576461-c7cb-4a8c-8de7-9b3d1394cf7d",
   "metadata": {},
   "source": [
    "# Earthquake B-Value Report Generator\n",
    "## COMP41680/COMP47670 Assignment 1 - Task 1: Data Collection"
   ]
  },
  {
   "cell_type": "code",
   "execution_count": 1,
   "id": "553e3047",
   "metadata": {},
   "outputs": [],
   "source": [
    "from datetime import datetime, timedelta\n",
    "import urllib.request, json\n",
    "from pathlib import Path\n",
    "import tkinter as tk"
   ]
  },
  {
   "cell_type": "markdown",
   "id": "7d32cca7-7db8-4e6c-8ac0-b7154f9cb093",
   "metadata": {},
   "source": [
    "### Step 1: Ask the user how many days in the past they want"
   ]
  },
  {
   "cell_type": "code",
   "execution_count": 2,
   "id": "400bb4b6",
   "metadata": {},
   "outputs": [
    {
     "name": "stdout",
     "output_type": "stream",
     "text": [
      "User selected:  30\n"
     ]
    }
   ],
   "source": [
    "duration = 1\n",
    "\n",
    "def get_duration():\n",
    "    global duration\n",
    "    duration = var.get()\n",
    "    print(\"User selected: \", duration)\n",
    "    root.destroy()\n",
    "\n",
    "root = tk.Tk()\n",
    "root.title(\"Please Select\")\n",
    "root.geometry(\"250x200\")\n",
    "tk.Label(root, text=\"How many days in the past do you want?\", font=(\"Helvetica\", 12)).pack(pady=10)\n",
    "\n",
    "\n",
    "var = tk.IntVar()\n",
    "var.set(duration)\n",
    "\n",
    "numbers = [1, 7, 30, 90, 365]\n",
    "\n",
    "for num in numbers:\n",
    "    tk.Radiobutton(root, text=str(num), variable=var, value=num).pack(anchor=tk.W, padx=80)\n",
    "\n",
    "tk.Button(root, text=\"Confirm\", command=get_duration).pack()\n",
    "\n",
    "root.mainloop()"
   ]
  },
  {
   "cell_type": "markdown",
   "id": "4443714b",
   "metadata": {},
   "source": [
    "### Step 2: Calculate duration dictionary, prepare for generate endpoint url\n",
    "We need to split the request into small pieces. Having 20,000 results in one response can cause a server (503) or resource (400) error. Generally, there are fewer than 20,000 earthquakes in 30 days, but in some cases, there may be more than 20,000 earthquakes even in 15 days. Therefore, we select 10 days as the maximum duration for one request.\n",
    "\n",
    "The endpoint date start at starttime, exclusive endtime."
   ]
  },
  {
   "cell_type": "code",
   "execution_count": 3,
   "id": "6f6b9919-c119-4060-aed5-a6263fd28761",
   "metadata": {},
   "outputs": [
    {
     "name": "stdout",
     "output_type": "stream",
     "text": [
      "{'2024-02-19': '2024-02-09', '2024-02-09': '2024-01-30', '2024-01-30': '2024-01-20'}\n"
     ]
    }
   ],
   "source": [
    "duration_dict = {}\n",
    "\n",
    "def calculate_start_date(end_date, days=10):\n",
    "    end_date = datetime.strptime(end_date, \"%Y-%m-%d\")\n",
    "    ten_days_ago = end_date - timedelta(days=days)\n",
    "    start_date = ten_days_ago.strftime(\"%Y-%m-%d\")\n",
    "    return start_date\n",
    "\n",
    "today = datetime.now()\n",
    "end_date = today.strftime(\"%Y-%m-%d\")\n",
    "days = duration\n",
    "\n",
    "while days > 0:\n",
    "    if days > 10:\n",
    "        start_date = calculate_start_date(end_date)\n",
    "        days -= 10\n",
    "    else:\n",
    "        start_date = calculate_start_date(end_date, days)\n",
    "        days = 0\n",
    "    duration_dict[end_date] = start_date\n",
    "    end_date = start_date\n",
    "    \n",
    "print(duration_dict)"
   ]
  },
  {
   "cell_type": "markdown",
   "id": "1217ba50",
   "metadata": {},
   "source": [
    "### Step 3: Create raw data directory if it does not already exist, or delete previous data"
   ]
  },
  {
   "cell_type": "code",
   "execution_count": 4,
   "id": "5bfb8448",
   "metadata": {},
   "outputs": [
    {
     "name": "stdout",
     "output_type": "stream",
     "text": [
      "Deleted resources under `data/raw_data`\n"
     ]
    }
   ],
   "source": [
    "dir_path = Path(\"data/raw_data\")\n",
    "\n",
    "if dir_path.exists():\n",
    "    for item in dir_path.iterdir():\n",
    "        item.unlink()\n",
    "    print(f\"Deleted resources under `{dir_path}`\")\n",
    "else:\n",
    "    dir_path.mkdir(parents=True, exist_ok=True)\n",
    "    print(f\"mkdir `{dir_path}`\")"
   ]
  },
  {
   "cell_type": "markdown",
   "id": "7a96a27e-afad-487e-a322-ae14c948c489",
   "metadata": {},
   "source": [
    "### Step 4: Collect earthquake data from USGS API, save as JSON"
   ]
  },
  {
   "cell_type": "code",
   "execution_count": 5,
   "id": "8aea1677-db8f-4077-8de2-7806e68b11b6",
   "metadata": {},
   "outputs": [
    {
     "name": "stdout",
     "output_type": "stream",
     "text": [
      "GET https://earthquake.usgs.gov/fdsnws/event/1/query?format=geojson&starttime=2024-02-09&endtime=2024-02-19\n",
      "GET https://earthquake.usgs.gov/fdsnws/event/1/query?format=geojson&starttime=2024-01-30&endtime=2024-02-09\n",
      "GET https://earthquake.usgs.gov/fdsnws/event/1/query?format=geojson&starttime=2024-01-20&endtime=2024-01-30\n",
      "Data saved in `./data/raw_data` directory.\n",
      "\n",
      "CPU times: user 483 ms, sys: 96.6 ms, total: 580 ms\n",
      "Wall time: 5.39 s\n"
     ]
    }
   ],
   "source": [
    "%%time\n",
    "\n",
    "for endtime in duration_dict:\n",
    "    starttime = duration_dict[endtime]\n",
    "    url = f\"https://earthquake.usgs.gov/fdsnws/event/1/query?format=geojson&starttime={starttime}&endtime={endtime}\"\n",
    "    print(\"GET \" + url)\n",
    "    response = urllib.request.urlopen(url)\n",
    "    raw_json = response.read().decode(\"utf-8\")\n",
    "    data = json.loads(raw_json)\n",
    "\n",
    "    fname = f\"{dir_path}/%s_%s.json\" % (starttime, endtime)\n",
    "    with open(fname, \"w\") as json_file:\n",
    "        json.dump(data, json_file)\n",
    "\n",
    "print(f\"Data saved in `./{dir_path}` directory.\\n\")"
   ]
  },
  {
   "cell_type": "code",
   "execution_count": null,
   "id": "b3764689-09a4-4465-a77a-4ebc5391b7cb",
   "metadata": {},
   "outputs": [],
   "source": []
  }
 ],
 "metadata": {
  "kernelspec": {
   "display_name": "Python 3 (ipykernel)",
   "language": "python",
   "name": "python3"
  },
  "language_info": {
   "codemirror_mode": {
    "name": "ipython",
    "version": 3
   },
   "file_extension": ".py",
   "mimetype": "text/x-python",
   "name": "python",
   "nbconvert_exporter": "python",
   "pygments_lexer": "ipython3",
   "version": "3.11.5"
  }
 },
 "nbformat": 4,
 "nbformat_minor": 5
}
