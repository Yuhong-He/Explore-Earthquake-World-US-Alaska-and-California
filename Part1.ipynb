{
 "cells": [
  {
   "cell_type": "markdown",
   "id": "6d576461-c7cb-4a8c-8de7-9b3d1394cf7d",
   "metadata": {},
   "source": [
    "# Explore Earthquake: World, US, Alaska and California\n",
    "## COMP41680/COMP47670 Assignment 1 - Task 1: Data Collection\n",
    "- Student: Yuhong He 19326053\n",
    "- API: USGS Earthquake Catalog https://earthquake.usgs.gov/fdsnws/event/1/"
   ]
  },
  {
   "cell_type": "code",
   "execution_count": 1,
   "id": "c3ff90dd",
   "metadata": {},
   "outputs": [],
   "source": [
    "import json, os, re, sys, urllib.request\n",
    "\n",
    "from datetime import datetime, timedelta\n",
    "from pathlib import Path\n",
    "\n",
    "# conda install pyqt qtpy\n",
    "from PyQt5.QtWidgets import QApplication, QWidget, QVBoxLayout, QLabel, QPushButton, QLineEdit, QMessageBox"
   ]
  },
  {
   "cell_type": "markdown",
   "id": "7d32cca7-7db8-4e6c-8ac0-b7154f9cb093",
   "metadata": {},
   "source": [
    "### Step 1: Ask the user how many days in the past they want\n",
    "We use PyQt5 instead of tkinter, because in my MacOS Jupyter environment, PyQt5 is much stable than tkinter"
   ]
  },
  {
   "cell_type": "code",
   "execution_count": 2,
   "id": "5ea3c8fc",
   "metadata": {},
   "outputs": [
    {
     "name": "stdout",
     "output_type": "stream",
     "text": [
      "User input: 1000\n"
     ]
    }
   ],
   "source": [
    "class InputDaysWindow(QWidget):\n",
    "    def __init__(self):\n",
    "        super().__init__()\n",
    "        self.initUI()\n",
    "\n",
    "    def initUI(self):\n",
    "        self.setWindowTitle(\"Please Input\") # Window title\n",
    "\n",
    "        layout = QVBoxLayout()  # Init Layout Manager, arrange elements vertically\n",
    "\n",
    "        label = QLabel(\"How many days in the past do you want?\") # Content title\n",
    "        layout.addWidget(label)\n",
    "\n",
    "        self.input_box = QLineEdit()  # Input box, defined with 'self' key word, because will also use in get_days method\n",
    "        layout.addWidget(self.input_box)\n",
    "\n",
    "        confirm_button = QPushButton(\"Confirm\")  # Confirm button\n",
    "        confirm_button.clicked.connect(self.get_days)  # Invoke get_days method\n",
    "        layout.addWidget(confirm_button)\n",
    "\n",
    "        self.setLayout(layout)\n",
    "\n",
    "    def get_days(self):\n",
    "        global days  # Declare global variable\n",
    "        days_str = self.input_box.text()  # Read from input box\n",
    "        try:\n",
    "            if re.match(\"[+-]?\\d+$\", days_str) is not None:  # Regex check if the input is an integer (-1, 0, 1, +2...)\n",
    "                days = int(days_str)  # Convert str to int\n",
    "                if days < 1:\n",
    "                    raise ValueError(\"At least 1 day\")\n",
    "                if days > 1000:\n",
    "                    raise ValueError(\"Too many days, at most 1000\")\n",
    "            else:\n",
    "                raise ValueError(\"Please input an Integer\")\n",
    "                \n",
    "            print(\"User input:\", days)\n",
    "            self.close()\n",
    "        except ValueError as e:\n",
    "            QMessageBox.warning(self, \"Invalid Input\", str(e))\n",
    "\n",
    "app = QApplication(sys.argv)\n",
    "window = InputDaysWindow()\n",
    "window.show()\n",
    "_ = app.exec_()  # Execute the app, and ignore the execution result, avoid print in Jupiter"
   ]
  },
  {
   "cell_type": "markdown",
   "id": "e6f4568b",
   "metadata": {},
   "source": [
    "### Step 2: Calculate duration dictionary, prepare for generate endpoint url\n",
    "We need to split the request into small pieces. From experience, having 20,000 results in one response can cause a server (503) or resource (400) error on USGS side. Generally, there are fewer than 20,000 earthquakes in 30 days, but in some cases, there may be more than 20,000 earthquakes even in 15 days. Therefore, we choose 10 days as the maximum duration for one request.\n",
    "\n",
    "The endpoint date start at starttime, exclusive endtime, e.g., <span style=\"color:green\">2024-03-08 - 2024-03-12</span> include 2024-03-08, exclusive 2024-03-12."
   ]
  },
  {
   "cell_type": "code",
   "execution_count": 3,
   "id": "6f6b9919-c119-4060-aed5-a6263fd28761",
   "metadata": {},
   "outputs": [
    {
     "name": "stdout",
     "output_type": "stream",
     "text": [
      "{'2024-03-13': '2024-03-03', '2024-03-03': '2024-02-22', '2024-02-22': '2024-02-12', '2024-02-12': '2024-02-02', '2024-02-02': '2024-01-23', '2024-01-23': '2024-01-13', '2024-01-13': '2024-01-03', '2024-01-03': '2023-12-24', '2023-12-24': '2023-12-14', '2023-12-14': '2023-12-04', '2023-12-04': '2023-11-24', '2023-11-24': '2023-11-14', '2023-11-14': '2023-11-04', '2023-11-04': '2023-10-25', '2023-10-25': '2023-10-15', '2023-10-15': '2023-10-05', '2023-10-05': '2023-09-25', '2023-09-25': '2023-09-15', '2023-09-15': '2023-09-05', '2023-09-05': '2023-08-26', '2023-08-26': '2023-08-16', '2023-08-16': '2023-08-06', '2023-08-06': '2023-07-27', '2023-07-27': '2023-07-17', '2023-07-17': '2023-07-07', '2023-07-07': '2023-06-27', '2023-06-27': '2023-06-17', '2023-06-17': '2023-06-07', '2023-06-07': '2023-05-28', '2023-05-28': '2023-05-18', '2023-05-18': '2023-05-08', '2023-05-08': '2023-04-28', '2023-04-28': '2023-04-18', '2023-04-18': '2023-04-08', '2023-04-08': '2023-03-29', '2023-03-29': '2023-03-19', '2023-03-19': '2023-03-09', '2023-03-09': '2023-02-27', '2023-02-27': '2023-02-17', '2023-02-17': '2023-02-07', '2023-02-07': '2023-01-28', '2023-01-28': '2023-01-18', '2023-01-18': '2023-01-08', '2023-01-08': '2022-12-29', '2022-12-29': '2022-12-19', '2022-12-19': '2022-12-09', '2022-12-09': '2022-11-29', '2022-11-29': '2022-11-19', '2022-11-19': '2022-11-09', '2022-11-09': '2022-10-30', '2022-10-30': '2022-10-20', '2022-10-20': '2022-10-10', '2022-10-10': '2022-09-30', '2022-09-30': '2022-09-20', '2022-09-20': '2022-09-10', '2022-09-10': '2022-08-31', '2022-08-31': '2022-08-21', '2022-08-21': '2022-08-11', '2022-08-11': '2022-08-01', '2022-08-01': '2022-07-22', '2022-07-22': '2022-07-12', '2022-07-12': '2022-07-02', '2022-07-02': '2022-06-22', '2022-06-22': '2022-06-12', '2022-06-12': '2022-06-02', '2022-06-02': '2022-05-23', '2022-05-23': '2022-05-13', '2022-05-13': '2022-05-03', '2022-05-03': '2022-04-23', '2022-04-23': '2022-04-13', '2022-04-13': '2022-04-03', '2022-04-03': '2022-03-24', '2022-03-24': '2022-03-14', '2022-03-14': '2022-03-04', '2022-03-04': '2022-02-22', '2022-02-22': '2022-02-12', '2022-02-12': '2022-02-02', '2022-02-02': '2022-01-23', '2022-01-23': '2022-01-13', '2022-01-13': '2022-01-03', '2022-01-03': '2021-12-24', '2021-12-24': '2021-12-14', '2021-12-14': '2021-12-04', '2021-12-04': '2021-11-24', '2021-11-24': '2021-11-14', '2021-11-14': '2021-11-04', '2021-11-04': '2021-10-25', '2021-10-25': '2021-10-15', '2021-10-15': '2021-10-05', '2021-10-05': '2021-09-25', '2021-09-25': '2021-09-15', '2021-09-15': '2021-09-05', '2021-09-05': '2021-08-26', '2021-08-26': '2021-08-16', '2021-08-16': '2021-08-06', '2021-08-06': '2021-07-27', '2021-07-27': '2021-07-17', '2021-07-17': '2021-07-07', '2021-07-07': '2021-06-27', '2021-06-27': '2021-06-17'}\n"
     ]
    }
   ],
   "source": [
    "duration_dict = {}\n",
    "\n",
    "def calculate_start_date(end_date, days=10):\n",
    "    \"\"\"\n",
    "    Calculate the start date given an end date and a number of days.\n",
    "\n",
    "    Parameters:\n",
    "        end_date (str): The end date in the format 'YYYY-MM-DD'.\n",
    "        days (int, optional): The number of days before the end date. Defaults to 10.\n",
    "\n",
    "    Returns:\n",
    "        str: The calculated start date in the format 'YYYY-MM-DD'.\n",
    "    \"\"\"\n",
    "    end_date = datetime.strptime(end_date, \"%Y-%m-%d\")  # Convert end date str to datetime object\n",
    "    ten_days_ago = end_date - timedelta(days=days)  # Subtract the specified number of days from the end date\n",
    "    start_date = ten_days_ago.strftime(\"%Y-%m-%d\")  # Convert the result back to string format\n",
    "    return start_date\n",
    "\n",
    "today = datetime.now()\n",
    "end_date = today.strftime(\"%Y-%m-%d\")\n",
    "\n",
    "# Calculate endpoint date pairs and store them in a dictionary\n",
    "while days > 0:\n",
    "    if days > 10:  # If remaining days are more than 10, calculate start date as 10 days ago\n",
    "        start_date = calculate_start_date(end_date)\n",
    "        days -= 10\n",
    "    else:          # If remaining days are less than or equal to 10, calculate start date as the specified number of days ago\n",
    "        start_date = calculate_start_date(end_date, days)\n",
    "        days = 0\n",
    "    duration_dict[end_date] = start_date  # Store the enddate-startdate pair in the dictionary\n",
    "    end_date = start_date # In the next pair, end date is the previous start date\n",
    "    \n",
    "print(duration_dict)"
   ]
  },
  {
   "cell_type": "markdown",
   "id": "e20f734d",
   "metadata": {},
   "source": [
    "### Step 3: Record the duration"
   ]
  },
  {
   "cell_type": "code",
   "execution_count": 4,
   "id": "1a29027c",
   "metadata": {},
   "outputs": [
    {
     "name": "stdout",
     "output_type": "stream",
     "text": [
      "Start:\t 2021-06-17\n",
      "End:\t 2024-03-13\n"
     ]
    }
   ],
   "source": [
    "first_key = next(iter(duration_dict.keys())) # end date\n",
    "last_value = list(duration_dict.values())[-1] # start date\n",
    "\n",
    "end_date = first_key\n",
    "start_date = last_value\n",
    "\n",
    "duration_filename = 'data/duration.txt'\n",
    "\n",
    "if not os.path.exists(duration_filename):  # If duration.txt not exist, create the file\n",
    "    with open(duration_filename, 'w') as file:\n",
    "        file.write(\"\")\n",
    "\n",
    "with open(duration_filename, 'w') as f:  # Record the start and end date, part 2 will display it\n",
    "    f.write(f\"{start_date}\\n\")\n",
    "    f.write(f\"{end_date}\\n\")\n",
    "    \n",
    "print(\"Start:\\t\", start_date)\n",
    "print(\"End:\\t\", end_date)"
   ]
  },
  {
   "cell_type": "markdown",
   "id": "b3d2a37c",
   "metadata": {},
   "source": [
    "### Step 4: Create raw data directory if it does not already exist, or delete previous data"
   ]
  },
  {
   "cell_type": "code",
   "execution_count": 5,
   "id": "02bcf837",
   "metadata": {},
   "outputs": [
    {
     "name": "stdout",
     "output_type": "stream",
     "text": [
      "Deleted resources under `data/raw_data`\n"
     ]
    }
   ],
   "source": [
    "dir_path = Path(\"data/raw_data\")\n",
    "\n",
    "if dir_path.exists():  # Iteration delete data in the directory\n",
    "    for item in dir_path.iterdir():\n",
    "        item.unlink()\n",
    "    print(f\"Deleted resources under `{dir_path}`\")\n",
    "else:                  # Create directory\n",
    "    dir_path.mkdir(parents=True, exist_ok=True)\n",
    "    print(f\"mkdir `{dir_path}`\")"
   ]
  },
  {
   "cell_type": "markdown",
   "id": "7a96a27e-afad-487e-a322-ae14c948c489",
   "metadata": {},
   "source": [
    "### Step 5: Collect earthquake data from USGS API, save as JSON"
   ]
  },
  {
   "cell_type": "code",
   "execution_count": 6,
   "id": "8aea1677-db8f-4077-8de2-7806e68b11b6",
   "metadata": {},
   "outputs": [
    {
     "name": "stdout",
     "output_type": "stream",
     "text": [
      "GET https://earthquake.usgs.gov/fdsnws/event/1/query?format=geojson&starttime=2024-03-03&endtime=2024-03-13\n",
      "GET https://earthquake.usgs.gov/fdsnws/event/1/query?format=geojson&starttime=2024-02-22&endtime=2024-03-03\n",
      "GET https://earthquake.usgs.gov/fdsnws/event/1/query?format=geojson&starttime=2024-02-12&endtime=2024-02-22\n",
      "GET https://earthquake.usgs.gov/fdsnws/event/1/query?format=geojson&starttime=2024-02-02&endtime=2024-02-12\n",
      "GET https://earthquake.usgs.gov/fdsnws/event/1/query?format=geojson&starttime=2024-01-23&endtime=2024-02-02\n",
      "GET https://earthquake.usgs.gov/fdsnws/event/1/query?format=geojson&starttime=2024-01-13&endtime=2024-01-23\n",
      "GET https://earthquake.usgs.gov/fdsnws/event/1/query?format=geojson&starttime=2024-01-03&endtime=2024-01-13\n",
      "GET https://earthquake.usgs.gov/fdsnws/event/1/query?format=geojson&starttime=2023-12-24&endtime=2024-01-03\n",
      "GET https://earthquake.usgs.gov/fdsnws/event/1/query?format=geojson&starttime=2023-12-14&endtime=2023-12-24\n",
      "GET https://earthquake.usgs.gov/fdsnws/event/1/query?format=geojson&starttime=2023-12-04&endtime=2023-12-14\n",
      "GET https://earthquake.usgs.gov/fdsnws/event/1/query?format=geojson&starttime=2023-11-24&endtime=2023-12-04\n",
      "GET https://earthquake.usgs.gov/fdsnws/event/1/query?format=geojson&starttime=2023-11-14&endtime=2023-11-24\n",
      "GET https://earthquake.usgs.gov/fdsnws/event/1/query?format=geojson&starttime=2023-11-04&endtime=2023-11-14\n",
      "GET https://earthquake.usgs.gov/fdsnws/event/1/query?format=geojson&starttime=2023-10-25&endtime=2023-11-04\n",
      "GET https://earthquake.usgs.gov/fdsnws/event/1/query?format=geojson&starttime=2023-10-15&endtime=2023-10-25\n",
      "GET https://earthquake.usgs.gov/fdsnws/event/1/query?format=geojson&starttime=2023-10-05&endtime=2023-10-15\n",
      "GET https://earthquake.usgs.gov/fdsnws/event/1/query?format=geojson&starttime=2023-09-25&endtime=2023-10-05\n",
      "GET https://earthquake.usgs.gov/fdsnws/event/1/query?format=geojson&starttime=2023-09-15&endtime=2023-09-25\n",
      "GET https://earthquake.usgs.gov/fdsnws/event/1/query?format=geojson&starttime=2023-09-05&endtime=2023-09-15\n",
      "GET https://earthquake.usgs.gov/fdsnws/event/1/query?format=geojson&starttime=2023-08-26&endtime=2023-09-05\n",
      "GET https://earthquake.usgs.gov/fdsnws/event/1/query?format=geojson&starttime=2023-08-16&endtime=2023-08-26\n",
      "GET https://earthquake.usgs.gov/fdsnws/event/1/query?format=geojson&starttime=2023-08-06&endtime=2023-08-16\n",
      "GET https://earthquake.usgs.gov/fdsnws/event/1/query?format=geojson&starttime=2023-07-27&endtime=2023-08-06\n",
      "GET https://earthquake.usgs.gov/fdsnws/event/1/query?format=geojson&starttime=2023-07-17&endtime=2023-07-27\n",
      "GET https://earthquake.usgs.gov/fdsnws/event/1/query?format=geojson&starttime=2023-07-07&endtime=2023-07-17\n",
      "GET https://earthquake.usgs.gov/fdsnws/event/1/query?format=geojson&starttime=2023-06-27&endtime=2023-07-07\n",
      "GET https://earthquake.usgs.gov/fdsnws/event/1/query?format=geojson&starttime=2023-06-17&endtime=2023-06-27\n",
      "GET https://earthquake.usgs.gov/fdsnws/event/1/query?format=geojson&starttime=2023-06-07&endtime=2023-06-17\n",
      "GET https://earthquake.usgs.gov/fdsnws/event/1/query?format=geojson&starttime=2023-05-28&endtime=2023-06-07\n",
      "GET https://earthquake.usgs.gov/fdsnws/event/1/query?format=geojson&starttime=2023-05-18&endtime=2023-05-28\n",
      "GET https://earthquake.usgs.gov/fdsnws/event/1/query?format=geojson&starttime=2023-05-08&endtime=2023-05-18\n",
      "GET https://earthquake.usgs.gov/fdsnws/event/1/query?format=geojson&starttime=2023-04-28&endtime=2023-05-08\n",
      "GET https://earthquake.usgs.gov/fdsnws/event/1/query?format=geojson&starttime=2023-04-18&endtime=2023-04-28\n",
      "GET https://earthquake.usgs.gov/fdsnws/event/1/query?format=geojson&starttime=2023-04-08&endtime=2023-04-18\n",
      "GET https://earthquake.usgs.gov/fdsnws/event/1/query?format=geojson&starttime=2023-03-29&endtime=2023-04-08\n",
      "GET https://earthquake.usgs.gov/fdsnws/event/1/query?format=geojson&starttime=2023-03-19&endtime=2023-03-29\n",
      "GET https://earthquake.usgs.gov/fdsnws/event/1/query?format=geojson&starttime=2023-03-09&endtime=2023-03-19\n",
      "GET https://earthquake.usgs.gov/fdsnws/event/1/query?format=geojson&starttime=2023-02-27&endtime=2023-03-09\n",
      "GET https://earthquake.usgs.gov/fdsnws/event/1/query?format=geojson&starttime=2023-02-17&endtime=2023-02-27\n",
      "GET https://earthquake.usgs.gov/fdsnws/event/1/query?format=geojson&starttime=2023-02-07&endtime=2023-02-17\n",
      "GET https://earthquake.usgs.gov/fdsnws/event/1/query?format=geojson&starttime=2023-01-28&endtime=2023-02-07\n",
      "GET https://earthquake.usgs.gov/fdsnws/event/1/query?format=geojson&starttime=2023-01-18&endtime=2023-01-28\n",
      "GET https://earthquake.usgs.gov/fdsnws/event/1/query?format=geojson&starttime=2023-01-08&endtime=2023-01-18\n",
      "GET https://earthquake.usgs.gov/fdsnws/event/1/query?format=geojson&starttime=2022-12-29&endtime=2023-01-08\n",
      "GET https://earthquake.usgs.gov/fdsnws/event/1/query?format=geojson&starttime=2022-12-19&endtime=2022-12-29\n",
      "GET https://earthquake.usgs.gov/fdsnws/event/1/query?format=geojson&starttime=2022-12-09&endtime=2022-12-19\n",
      "GET https://earthquake.usgs.gov/fdsnws/event/1/query?format=geojson&starttime=2022-11-29&endtime=2022-12-09\n",
      "GET https://earthquake.usgs.gov/fdsnws/event/1/query?format=geojson&starttime=2022-11-19&endtime=2022-11-29\n",
      "GET https://earthquake.usgs.gov/fdsnws/event/1/query?format=geojson&starttime=2022-11-09&endtime=2022-11-19\n",
      "GET https://earthquake.usgs.gov/fdsnws/event/1/query?format=geojson&starttime=2022-10-30&endtime=2022-11-09\n",
      "GET https://earthquake.usgs.gov/fdsnws/event/1/query?format=geojson&starttime=2022-10-20&endtime=2022-10-30\n",
      "GET https://earthquake.usgs.gov/fdsnws/event/1/query?format=geojson&starttime=2022-10-10&endtime=2022-10-20\n",
      "GET https://earthquake.usgs.gov/fdsnws/event/1/query?format=geojson&starttime=2022-09-30&endtime=2022-10-10\n",
      "GET https://earthquake.usgs.gov/fdsnws/event/1/query?format=geojson&starttime=2022-09-20&endtime=2022-09-30\n",
      "GET https://earthquake.usgs.gov/fdsnws/event/1/query?format=geojson&starttime=2022-09-10&endtime=2022-09-20\n",
      "GET https://earthquake.usgs.gov/fdsnws/event/1/query?format=geojson&starttime=2022-08-31&endtime=2022-09-10\n",
      "GET https://earthquake.usgs.gov/fdsnws/event/1/query?format=geojson&starttime=2022-08-21&endtime=2022-08-31\n",
      "GET https://earthquake.usgs.gov/fdsnws/event/1/query?format=geojson&starttime=2022-08-11&endtime=2022-08-21\n",
      "GET https://earthquake.usgs.gov/fdsnws/event/1/query?format=geojson&starttime=2022-08-01&endtime=2022-08-11\n",
      "GET https://earthquake.usgs.gov/fdsnws/event/1/query?format=geojson&starttime=2022-07-22&endtime=2022-08-01\n",
      "GET https://earthquake.usgs.gov/fdsnws/event/1/query?format=geojson&starttime=2022-07-12&endtime=2022-07-22\n",
      "GET https://earthquake.usgs.gov/fdsnws/event/1/query?format=geojson&starttime=2022-07-02&endtime=2022-07-12\n",
      "GET https://earthquake.usgs.gov/fdsnws/event/1/query?format=geojson&starttime=2022-06-22&endtime=2022-07-02\n",
      "GET https://earthquake.usgs.gov/fdsnws/event/1/query?format=geojson&starttime=2022-06-12&endtime=2022-06-22\n",
      "GET https://earthquake.usgs.gov/fdsnws/event/1/query?format=geojson&starttime=2022-06-02&endtime=2022-06-12\n",
      "GET https://earthquake.usgs.gov/fdsnws/event/1/query?format=geojson&starttime=2022-05-23&endtime=2022-06-02\n",
      "GET https://earthquake.usgs.gov/fdsnws/event/1/query?format=geojson&starttime=2022-05-13&endtime=2022-05-23\n",
      "GET https://earthquake.usgs.gov/fdsnws/event/1/query?format=geojson&starttime=2022-05-03&endtime=2022-05-13\n",
      "GET https://earthquake.usgs.gov/fdsnws/event/1/query?format=geojson&starttime=2022-04-23&endtime=2022-05-03\n",
      "GET https://earthquake.usgs.gov/fdsnws/event/1/query?format=geojson&starttime=2022-04-13&endtime=2022-04-23\n",
      "GET https://earthquake.usgs.gov/fdsnws/event/1/query?format=geojson&starttime=2022-04-03&endtime=2022-04-13\n",
      "GET https://earthquake.usgs.gov/fdsnws/event/1/query?format=geojson&starttime=2022-03-24&endtime=2022-04-03\n",
      "GET https://earthquake.usgs.gov/fdsnws/event/1/query?format=geojson&starttime=2022-03-14&endtime=2022-03-24\n",
      "GET https://earthquake.usgs.gov/fdsnws/event/1/query?format=geojson&starttime=2022-03-04&endtime=2022-03-14\n",
      "GET https://earthquake.usgs.gov/fdsnws/event/1/query?format=geojson&starttime=2022-02-22&endtime=2022-03-04\n",
      "GET https://earthquake.usgs.gov/fdsnws/event/1/query?format=geojson&starttime=2022-02-12&endtime=2022-02-22\n"
     ]
    },
    {
     "name": "stdout",
     "output_type": "stream",
     "text": [
      "GET https://earthquake.usgs.gov/fdsnws/event/1/query?format=geojson&starttime=2022-02-02&endtime=2022-02-12\n",
      "GET https://earthquake.usgs.gov/fdsnws/event/1/query?format=geojson&starttime=2022-01-23&endtime=2022-02-02\n",
      "GET https://earthquake.usgs.gov/fdsnws/event/1/query?format=geojson&starttime=2022-01-13&endtime=2022-01-23\n",
      "GET https://earthquake.usgs.gov/fdsnws/event/1/query?format=geojson&starttime=2022-01-03&endtime=2022-01-13\n",
      "GET https://earthquake.usgs.gov/fdsnws/event/1/query?format=geojson&starttime=2021-12-24&endtime=2022-01-03\n",
      "GET https://earthquake.usgs.gov/fdsnws/event/1/query?format=geojson&starttime=2021-12-14&endtime=2021-12-24\n",
      "GET https://earthquake.usgs.gov/fdsnws/event/1/query?format=geojson&starttime=2021-12-04&endtime=2021-12-14\n",
      "GET https://earthquake.usgs.gov/fdsnws/event/1/query?format=geojson&starttime=2021-11-24&endtime=2021-12-04\n",
      "GET https://earthquake.usgs.gov/fdsnws/event/1/query?format=geojson&starttime=2021-11-14&endtime=2021-11-24\n",
      "GET https://earthquake.usgs.gov/fdsnws/event/1/query?format=geojson&starttime=2021-11-04&endtime=2021-11-14\n",
      "GET https://earthquake.usgs.gov/fdsnws/event/1/query?format=geojson&starttime=2021-10-25&endtime=2021-11-04\n",
      "GET https://earthquake.usgs.gov/fdsnws/event/1/query?format=geojson&starttime=2021-10-15&endtime=2021-10-25\n",
      "GET https://earthquake.usgs.gov/fdsnws/event/1/query?format=geojson&starttime=2021-10-05&endtime=2021-10-15\n",
      "GET https://earthquake.usgs.gov/fdsnws/event/1/query?format=geojson&starttime=2021-09-25&endtime=2021-10-05\n",
      "GET https://earthquake.usgs.gov/fdsnws/event/1/query?format=geojson&starttime=2021-09-15&endtime=2021-09-25\n",
      "GET https://earthquake.usgs.gov/fdsnws/event/1/query?format=geojson&starttime=2021-09-05&endtime=2021-09-15\n",
      "GET https://earthquake.usgs.gov/fdsnws/event/1/query?format=geojson&starttime=2021-08-26&endtime=2021-09-05\n",
      "GET https://earthquake.usgs.gov/fdsnws/event/1/query?format=geojson&starttime=2021-08-16&endtime=2021-08-26\n",
      "GET https://earthquake.usgs.gov/fdsnws/event/1/query?format=geojson&starttime=2021-08-06&endtime=2021-08-16\n",
      "GET https://earthquake.usgs.gov/fdsnws/event/1/query?format=geojson&starttime=2021-07-27&endtime=2021-08-06\n",
      "GET https://earthquake.usgs.gov/fdsnws/event/1/query?format=geojson&starttime=2021-07-17&endtime=2021-07-27\n",
      "GET https://earthquake.usgs.gov/fdsnws/event/1/query?format=geojson&starttime=2021-07-07&endtime=2021-07-17\n",
      "GET https://earthquake.usgs.gov/fdsnws/event/1/query?format=geojson&starttime=2021-06-27&endtime=2021-07-07\n",
      "GET https://earthquake.usgs.gov/fdsnws/event/1/query?format=geojson&starttime=2021-06-17&endtime=2021-06-27\n",
      "Data saved in `./data/raw_data` directory.\n",
      "\n",
      "CPU times: user 15.5 s, sys: 1.83 s, total: 17.3 s\n",
      "Wall time: 3min 23s\n"
     ]
    }
   ],
   "source": [
    "%%time\n",
    "\n",
    "for endtime in duration_dict:\n",
    "    starttime = duration_dict[endtime]\n",
    "    url = f\"https://earthquake.usgs.gov/fdsnws/event/1/query?format=geojson&starttime={starttime}&endtime={endtime}\"\n",
    "    print(\"GET\", url)\n",
    "    response = urllib.request.urlopen(url)\n",
    "    raw_json = response.read().decode(\"utf-8\")\n",
    "    data = json.loads(raw_json)\n",
    "\n",
    "    fname = f\"{dir_path}/%s_%s.json\" % (starttime, endtime)  # e.g. 2024-03-02_2024-03-12.json\n",
    "    with open(fname, \"w\") as json_file:\n",
    "        json.dump(data, json_file)\n",
    "\n",
    "print(f\"Data saved in `./{dir_path}` directory.\\n\")"
   ]
  },
  {
   "cell_type": "code",
   "execution_count": null,
   "id": "b3764689-09a4-4465-a77a-4ebc5391b7cb",
   "metadata": {},
   "outputs": [],
   "source": []
  }
 ],
 "metadata": {
  "kernelspec": {
   "display_name": "Python 3 (ipykernel)",
   "language": "python",
   "name": "python3"
  },
  "language_info": {
   "codemirror_mode": {
    "name": "ipython",
    "version": 3
   },
   "file_extension": ".py",
   "mimetype": "text/x-python",
   "name": "python",
   "nbconvert_exporter": "python",
   "pygments_lexer": "ipython3",
   "version": "3.11.8"
  }
 },
 "nbformat": 4,
 "nbformat_minor": 5
}
