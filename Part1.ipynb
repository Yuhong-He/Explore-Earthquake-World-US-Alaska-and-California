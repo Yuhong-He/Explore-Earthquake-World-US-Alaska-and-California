{
 "cells": [
  {
   "cell_type": "markdown",
   "id": "6d576461-c7cb-4a8c-8de7-9b3d1394cf7d",
   "metadata": {},
   "source": [
    "# Earthquake B-Value Report Generator\n",
    "## COMP41680/COMP47670 Assignment 1 - Task 1: Data Collection"
   ]
  },
  {
   "cell_type": "code",
   "execution_count": 1,
   "id": "c3ff90dd",
   "metadata": {},
   "outputs": [],
   "source": [
    "import json, re, sys, urllib.request\n",
    "\n",
    "from datetime import datetime, timedelta\n",
    "from pathlib import Path\n",
    "from PyQt5.QtWidgets import QApplication, QWidget, QVBoxLayout, QLabel, QPushButton, QLineEdit, QMessageBox"
   ]
  },
  {
   "cell_type": "markdown",
   "id": "7d32cca7-7db8-4e6c-8ac0-b7154f9cb093",
   "metadata": {},
   "source": [
    "### Step 1: Ask the user how many days in the past they want"
   ]
  },
  {
   "cell_type": "code",
   "execution_count": 2,
   "id": "5ea3c8fc",
   "metadata": {},
   "outputs": [
    {
     "name": "stdout",
     "output_type": "stream",
     "text": [
      "User input: 1000\n"
     ]
    }
   ],
   "source": [
    "days = 1\n",
    "\n",
    "class InputDaysWindow(QWidget):\n",
    "    def __init__(self):\n",
    "        super().__init__()\n",
    "        self.initUI()\n",
    "\n",
    "    def initUI(self):\n",
    "        self.setWindowTitle(\"Please Input\")\n",
    "\n",
    "        layout = QVBoxLayout()\n",
    "\n",
    "        label = QLabel(\"How many days in the past do you want?\")\n",
    "        layout.addWidget(label)\n",
    "\n",
    "        self.input_box = QLineEdit()\n",
    "        layout.addWidget(self.input_box)\n",
    "\n",
    "        confirm_button = QPushButton(\"Confirm\")\n",
    "        confirm_button.clicked.connect(self.get_days)\n",
    "        layout.addWidget(confirm_button)\n",
    "\n",
    "        self.setLayout(layout)\n",
    "\n",
    "    def get_days(self):\n",
    "        global days # declare global variable\n",
    "        days_txt = self.input_box.text()\n",
    "        try:\n",
    "            if re.match(\"[+-]?\\d+$\", days_txt) is not None:\n",
    "                days = int(days_txt)\n",
    "                if days < 1:\n",
    "                    raise ValueError(\"At least 1 day\")\n",
    "                if days > 1000:\n",
    "                    raise ValueError(\"Too many days\")\n",
    "            else:\n",
    "                raise ValueError(\"Please input an Integer\")\n",
    "                \n",
    "            print(\"User input:\", days)\n",
    "            self.close()\n",
    "        except ValueError as e:\n",
    "            QMessageBox.warning(self, \"Invalid Input\", str(e))\n",
    "\n",
    "app = QApplication(sys.argv)\n",
    "window = InputDaysWindow()\n",
    "window.show()\n",
    "_ = app.exec_() # execute the app, and ignore the execution result, avoid print in Jupiter"
   ]
  },
  {
   "cell_type": "markdown",
   "id": "e6f4568b",
   "metadata": {},
   "source": [
    "### Step 2: Calculate duration dictionary, prepare for generate endpoint url\n",
    "We need to split the request into small pieces. From experience, having 20,000 results in one response can cause a server (503) or resource (400) error on USGS side. Generally, there are fewer than 20,000 earthquakes in 30 days, but in some cases, there may be more than 20,000 earthquakes even in 15 days. Therefore, we choose 10 days as the maximum duration for one request.\n",
    "\n",
    "The endpoint date start at starttime, exclusive endtime."
   ]
  },
  {
   "cell_type": "code",
   "execution_count": 3,
   "id": "6f6b9919-c119-4060-aed5-a6263fd28761",
   "metadata": {},
   "outputs": [
    {
     "name": "stdout",
     "output_type": "stream",
     "text": [
      "{'2024-03-11': '2024-03-01', '2024-03-01': '2024-02-20', '2024-02-20': '2024-02-10', '2024-02-10': '2024-01-31', '2024-01-31': '2024-01-21', '2024-01-21': '2024-01-11', '2024-01-11': '2024-01-01', '2024-01-01': '2023-12-22', '2023-12-22': '2023-12-12', '2023-12-12': '2023-12-02', '2023-12-02': '2023-11-22', '2023-11-22': '2023-11-12', '2023-11-12': '2023-11-02', '2023-11-02': '2023-10-23', '2023-10-23': '2023-10-13', '2023-10-13': '2023-10-03', '2023-10-03': '2023-09-23', '2023-09-23': '2023-09-13', '2023-09-13': '2023-09-03', '2023-09-03': '2023-08-24', '2023-08-24': '2023-08-14', '2023-08-14': '2023-08-04', '2023-08-04': '2023-07-25', '2023-07-25': '2023-07-15', '2023-07-15': '2023-07-05', '2023-07-05': '2023-06-25', '2023-06-25': '2023-06-15', '2023-06-15': '2023-06-05', '2023-06-05': '2023-05-26', '2023-05-26': '2023-05-16', '2023-05-16': '2023-05-06', '2023-05-06': '2023-04-26', '2023-04-26': '2023-04-16', '2023-04-16': '2023-04-06', '2023-04-06': '2023-03-27', '2023-03-27': '2023-03-17', '2023-03-17': '2023-03-07', '2023-03-07': '2023-02-25', '2023-02-25': '2023-02-15', '2023-02-15': '2023-02-05', '2023-02-05': '2023-01-26', '2023-01-26': '2023-01-16', '2023-01-16': '2023-01-06', '2023-01-06': '2022-12-27', '2022-12-27': '2022-12-17', '2022-12-17': '2022-12-07', '2022-12-07': '2022-11-27', '2022-11-27': '2022-11-17', '2022-11-17': '2022-11-07', '2022-11-07': '2022-10-28', '2022-10-28': '2022-10-18', '2022-10-18': '2022-10-08', '2022-10-08': '2022-09-28', '2022-09-28': '2022-09-18', '2022-09-18': '2022-09-08', '2022-09-08': '2022-08-29', '2022-08-29': '2022-08-19', '2022-08-19': '2022-08-09', '2022-08-09': '2022-07-30', '2022-07-30': '2022-07-20', '2022-07-20': '2022-07-10', '2022-07-10': '2022-06-30', '2022-06-30': '2022-06-20', '2022-06-20': '2022-06-10', '2022-06-10': '2022-05-31', '2022-05-31': '2022-05-21', '2022-05-21': '2022-05-11', '2022-05-11': '2022-05-01', '2022-05-01': '2022-04-21', '2022-04-21': '2022-04-11', '2022-04-11': '2022-04-01', '2022-04-01': '2022-03-22', '2022-03-22': '2022-03-12', '2022-03-12': '2022-03-02', '2022-03-02': '2022-02-20', '2022-02-20': '2022-02-10', '2022-02-10': '2022-01-31', '2022-01-31': '2022-01-21', '2022-01-21': '2022-01-11', '2022-01-11': '2022-01-01', '2022-01-01': '2021-12-22', '2021-12-22': '2021-12-12', '2021-12-12': '2021-12-02', '2021-12-02': '2021-11-22', '2021-11-22': '2021-11-12', '2021-11-12': '2021-11-02', '2021-11-02': '2021-10-23', '2021-10-23': '2021-10-13', '2021-10-13': '2021-10-03', '2021-10-03': '2021-09-23', '2021-09-23': '2021-09-13', '2021-09-13': '2021-09-03', '2021-09-03': '2021-08-24', '2021-08-24': '2021-08-14', '2021-08-14': '2021-08-04', '2021-08-04': '2021-07-25', '2021-07-25': '2021-07-15', '2021-07-15': '2021-07-05', '2021-07-05': '2021-06-25', '2021-06-25': '2021-06-15'}\n"
     ]
    }
   ],
   "source": [
    "duration_dict = {}\n",
    "\n",
    "def calculate_start_date(end_date, days=10):\n",
    "    end_date = datetime.strptime(end_date, \"%Y-%m-%d\")\n",
    "    ten_days_ago = end_date - timedelta(days=days)\n",
    "    start_date = ten_days_ago.strftime(\"%Y-%m-%d\")\n",
    "    return start_date\n",
    "\n",
    "today = datetime.now()\n",
    "end_date = today.strftime(\"%Y-%m-%d\")\n",
    "\n",
    "while days > 0:\n",
    "    if days > 10:\n",
    "        start_date = calculate_start_date(end_date)\n",
    "        days -= 10\n",
    "    else:\n",
    "        start_date = calculate_start_date(end_date, days)\n",
    "        days = 0\n",
    "    duration_dict[end_date] = start_date\n",
    "    end_date = start_date\n",
    "    \n",
    "print(duration_dict)"
   ]
  },
  {
   "cell_type": "markdown",
   "id": "e20f734d",
   "metadata": {},
   "source": [
    "### Step 3: Record the duration"
   ]
  },
  {
   "cell_type": "code",
   "execution_count": 4,
   "id": "1a29027c",
   "metadata": {},
   "outputs": [
    {
     "name": "stdout",
     "output_type": "stream",
     "text": [
      "Start:\t 2021-06-15\n",
      "End:\t 2024-03-11\n"
     ]
    }
   ],
   "source": [
    "first_key = next(iter(duration_dict.keys())) # end\n",
    "last_value = list(duration_dict.values())[-1] # start\n",
    "\n",
    "end_date = first_key\n",
    "start_date = last_value\n",
    "\n",
    "with open('data/duration.txt', 'w') as f:\n",
    "    f.write(f\"{start_date}\\n\")\n",
    "    f.write(f\"{end_date}\\n\")\n",
    "    \n",
    "print(\"Start:\\t\", start_date)\n",
    "print(\"End:\\t\", end_date)"
   ]
  },
  {
   "cell_type": "markdown",
   "id": "b3d2a37c",
   "metadata": {},
   "source": [
    "### Step 4: Create raw data directory if it does not already exist, or delete previous data"
   ]
  },
  {
   "cell_type": "code",
   "execution_count": 5,
   "id": "02bcf837",
   "metadata": {},
   "outputs": [
    {
     "name": "stdout",
     "output_type": "stream",
     "text": [
      "Deleted resources under `data/raw_data`\n"
     ]
    }
   ],
   "source": [
    "dir_path = Path(\"data/raw_data\")\n",
    "\n",
    "if dir_path.exists():\n",
    "    for item in dir_path.iterdir():\n",
    "        item.unlink()\n",
    "    print(f\"Deleted resources under `{dir_path}`\")\n",
    "else:\n",
    "    dir_path.mkdir(parents=True, exist_ok=True)\n",
    "    print(f\"mkdir `{dir_path}`\")"
   ]
  },
  {
   "cell_type": "markdown",
   "id": "7a96a27e-afad-487e-a322-ae14c948c489",
   "metadata": {},
   "source": [
    "### Step 5: Collect earthquake data from USGS API, save as JSON"
   ]
  },
  {
   "cell_type": "code",
   "execution_count": 6,
   "id": "8aea1677-db8f-4077-8de2-7806e68b11b6",
   "metadata": {},
   "outputs": [
    {
     "name": "stdout",
     "output_type": "stream",
     "text": [
      "GET https://earthquake.usgs.gov/fdsnws/event/1/query?format=geojson&starttime=2024-03-01&endtime=2024-03-11\n",
      "GET https://earthquake.usgs.gov/fdsnws/event/1/query?format=geojson&starttime=2024-02-20&endtime=2024-03-01\n",
      "GET https://earthquake.usgs.gov/fdsnws/event/1/query?format=geojson&starttime=2024-02-10&endtime=2024-02-20\n",
      "GET https://earthquake.usgs.gov/fdsnws/event/1/query?format=geojson&starttime=2024-01-31&endtime=2024-02-10\n",
      "GET https://earthquake.usgs.gov/fdsnws/event/1/query?format=geojson&starttime=2024-01-21&endtime=2024-01-31\n",
      "GET https://earthquake.usgs.gov/fdsnws/event/1/query?format=geojson&starttime=2024-01-11&endtime=2024-01-21\n",
      "GET https://earthquake.usgs.gov/fdsnws/event/1/query?format=geojson&starttime=2024-01-01&endtime=2024-01-11\n",
      "GET https://earthquake.usgs.gov/fdsnws/event/1/query?format=geojson&starttime=2023-12-22&endtime=2024-01-01\n",
      "GET https://earthquake.usgs.gov/fdsnws/event/1/query?format=geojson&starttime=2023-12-12&endtime=2023-12-22\n",
      "GET https://earthquake.usgs.gov/fdsnws/event/1/query?format=geojson&starttime=2023-12-02&endtime=2023-12-12\n",
      "GET https://earthquake.usgs.gov/fdsnws/event/1/query?format=geojson&starttime=2023-11-22&endtime=2023-12-02\n",
      "GET https://earthquake.usgs.gov/fdsnws/event/1/query?format=geojson&starttime=2023-11-12&endtime=2023-11-22\n",
      "GET https://earthquake.usgs.gov/fdsnws/event/1/query?format=geojson&starttime=2023-11-02&endtime=2023-11-12\n",
      "GET https://earthquake.usgs.gov/fdsnws/event/1/query?format=geojson&starttime=2023-10-23&endtime=2023-11-02\n",
      "GET https://earthquake.usgs.gov/fdsnws/event/1/query?format=geojson&starttime=2023-10-13&endtime=2023-10-23\n",
      "GET https://earthquake.usgs.gov/fdsnws/event/1/query?format=geojson&starttime=2023-10-03&endtime=2023-10-13\n",
      "GET https://earthquake.usgs.gov/fdsnws/event/1/query?format=geojson&starttime=2023-09-23&endtime=2023-10-03\n",
      "GET https://earthquake.usgs.gov/fdsnws/event/1/query?format=geojson&starttime=2023-09-13&endtime=2023-09-23\n",
      "GET https://earthquake.usgs.gov/fdsnws/event/1/query?format=geojson&starttime=2023-09-03&endtime=2023-09-13\n",
      "GET https://earthquake.usgs.gov/fdsnws/event/1/query?format=geojson&starttime=2023-08-24&endtime=2023-09-03\n",
      "GET https://earthquake.usgs.gov/fdsnws/event/1/query?format=geojson&starttime=2023-08-14&endtime=2023-08-24\n",
      "GET https://earthquake.usgs.gov/fdsnws/event/1/query?format=geojson&starttime=2023-08-04&endtime=2023-08-14\n",
      "GET https://earthquake.usgs.gov/fdsnws/event/1/query?format=geojson&starttime=2023-07-25&endtime=2023-08-04\n",
      "GET https://earthquake.usgs.gov/fdsnws/event/1/query?format=geojson&starttime=2023-07-15&endtime=2023-07-25\n",
      "GET https://earthquake.usgs.gov/fdsnws/event/1/query?format=geojson&starttime=2023-07-05&endtime=2023-07-15\n",
      "GET https://earthquake.usgs.gov/fdsnws/event/1/query?format=geojson&starttime=2023-06-25&endtime=2023-07-05\n",
      "GET https://earthquake.usgs.gov/fdsnws/event/1/query?format=geojson&starttime=2023-06-15&endtime=2023-06-25\n",
      "GET https://earthquake.usgs.gov/fdsnws/event/1/query?format=geojson&starttime=2023-06-05&endtime=2023-06-15\n",
      "GET https://earthquake.usgs.gov/fdsnws/event/1/query?format=geojson&starttime=2023-05-26&endtime=2023-06-05\n",
      "GET https://earthquake.usgs.gov/fdsnws/event/1/query?format=geojson&starttime=2023-05-16&endtime=2023-05-26\n",
      "GET https://earthquake.usgs.gov/fdsnws/event/1/query?format=geojson&starttime=2023-05-06&endtime=2023-05-16\n",
      "GET https://earthquake.usgs.gov/fdsnws/event/1/query?format=geojson&starttime=2023-04-26&endtime=2023-05-06\n",
      "GET https://earthquake.usgs.gov/fdsnws/event/1/query?format=geojson&starttime=2023-04-16&endtime=2023-04-26\n",
      "GET https://earthquake.usgs.gov/fdsnws/event/1/query?format=geojson&starttime=2023-04-06&endtime=2023-04-16\n",
      "GET https://earthquake.usgs.gov/fdsnws/event/1/query?format=geojson&starttime=2023-03-27&endtime=2023-04-06\n",
      "GET https://earthquake.usgs.gov/fdsnws/event/1/query?format=geojson&starttime=2023-03-17&endtime=2023-03-27\n",
      "GET https://earthquake.usgs.gov/fdsnws/event/1/query?format=geojson&starttime=2023-03-07&endtime=2023-03-17\n",
      "GET https://earthquake.usgs.gov/fdsnws/event/1/query?format=geojson&starttime=2023-02-25&endtime=2023-03-07\n",
      "GET https://earthquake.usgs.gov/fdsnws/event/1/query?format=geojson&starttime=2023-02-15&endtime=2023-02-25\n",
      "GET https://earthquake.usgs.gov/fdsnws/event/1/query?format=geojson&starttime=2023-02-05&endtime=2023-02-15\n",
      "GET https://earthquake.usgs.gov/fdsnws/event/1/query?format=geojson&starttime=2023-01-26&endtime=2023-02-05\n",
      "GET https://earthquake.usgs.gov/fdsnws/event/1/query?format=geojson&starttime=2023-01-16&endtime=2023-01-26\n",
      "GET https://earthquake.usgs.gov/fdsnws/event/1/query?format=geojson&starttime=2023-01-06&endtime=2023-01-16\n",
      "GET https://earthquake.usgs.gov/fdsnws/event/1/query?format=geojson&starttime=2022-12-27&endtime=2023-01-06\n",
      "GET https://earthquake.usgs.gov/fdsnws/event/1/query?format=geojson&starttime=2022-12-17&endtime=2022-12-27\n",
      "GET https://earthquake.usgs.gov/fdsnws/event/1/query?format=geojson&starttime=2022-12-07&endtime=2022-12-17\n",
      "GET https://earthquake.usgs.gov/fdsnws/event/1/query?format=geojson&starttime=2022-11-27&endtime=2022-12-07\n",
      "GET https://earthquake.usgs.gov/fdsnws/event/1/query?format=geojson&starttime=2022-11-17&endtime=2022-11-27\n",
      "GET https://earthquake.usgs.gov/fdsnws/event/1/query?format=geojson&starttime=2022-11-07&endtime=2022-11-17\n",
      "GET https://earthquake.usgs.gov/fdsnws/event/1/query?format=geojson&starttime=2022-10-28&endtime=2022-11-07\n",
      "GET https://earthquake.usgs.gov/fdsnws/event/1/query?format=geojson&starttime=2022-10-18&endtime=2022-10-28\n",
      "GET https://earthquake.usgs.gov/fdsnws/event/1/query?format=geojson&starttime=2022-10-08&endtime=2022-10-18\n",
      "GET https://earthquake.usgs.gov/fdsnws/event/1/query?format=geojson&starttime=2022-09-28&endtime=2022-10-08\n",
      "GET https://earthquake.usgs.gov/fdsnws/event/1/query?format=geojson&starttime=2022-09-18&endtime=2022-09-28\n",
      "GET https://earthquake.usgs.gov/fdsnws/event/1/query?format=geojson&starttime=2022-09-08&endtime=2022-09-18\n",
      "GET https://earthquake.usgs.gov/fdsnws/event/1/query?format=geojson&starttime=2022-08-29&endtime=2022-09-08\n",
      "GET https://earthquake.usgs.gov/fdsnws/event/1/query?format=geojson&starttime=2022-08-19&endtime=2022-08-29\n",
      "GET https://earthquake.usgs.gov/fdsnws/event/1/query?format=geojson&starttime=2022-08-09&endtime=2022-08-19\n",
      "GET https://earthquake.usgs.gov/fdsnws/event/1/query?format=geojson&starttime=2022-07-30&endtime=2022-08-09\n",
      "GET https://earthquake.usgs.gov/fdsnws/event/1/query?format=geojson&starttime=2022-07-20&endtime=2022-07-30\n",
      "GET https://earthquake.usgs.gov/fdsnws/event/1/query?format=geojson&starttime=2022-07-10&endtime=2022-07-20\n",
      "GET https://earthquake.usgs.gov/fdsnws/event/1/query?format=geojson&starttime=2022-06-30&endtime=2022-07-10\n",
      "GET https://earthquake.usgs.gov/fdsnws/event/1/query?format=geojson&starttime=2022-06-20&endtime=2022-06-30\n",
      "GET https://earthquake.usgs.gov/fdsnws/event/1/query?format=geojson&starttime=2022-06-10&endtime=2022-06-20\n",
      "GET https://earthquake.usgs.gov/fdsnws/event/1/query?format=geojson&starttime=2022-05-31&endtime=2022-06-10\n",
      "GET https://earthquake.usgs.gov/fdsnws/event/1/query?format=geojson&starttime=2022-05-21&endtime=2022-05-31\n",
      "GET https://earthquake.usgs.gov/fdsnws/event/1/query?format=geojson&starttime=2022-05-11&endtime=2022-05-21\n",
      "GET https://earthquake.usgs.gov/fdsnws/event/1/query?format=geojson&starttime=2022-05-01&endtime=2022-05-11\n",
      "GET https://earthquake.usgs.gov/fdsnws/event/1/query?format=geojson&starttime=2022-04-21&endtime=2022-05-01\n",
      "GET https://earthquake.usgs.gov/fdsnws/event/1/query?format=geojson&starttime=2022-04-11&endtime=2022-04-21\n",
      "GET https://earthquake.usgs.gov/fdsnws/event/1/query?format=geojson&starttime=2022-04-01&endtime=2022-04-11\n",
      "GET https://earthquake.usgs.gov/fdsnws/event/1/query?format=geojson&starttime=2022-03-22&endtime=2022-04-01\n",
      "GET https://earthquake.usgs.gov/fdsnws/event/1/query?format=geojson&starttime=2022-03-12&endtime=2022-03-22\n",
      "GET https://earthquake.usgs.gov/fdsnws/event/1/query?format=geojson&starttime=2022-03-02&endtime=2022-03-12\n",
      "GET https://earthquake.usgs.gov/fdsnws/event/1/query?format=geojson&starttime=2022-02-20&endtime=2022-03-02\n",
      "GET https://earthquake.usgs.gov/fdsnws/event/1/query?format=geojson&starttime=2022-02-10&endtime=2022-02-20\n"
     ]
    },
    {
     "name": "stdout",
     "output_type": "stream",
     "text": [
      "GET https://earthquake.usgs.gov/fdsnws/event/1/query?format=geojson&starttime=2022-01-31&endtime=2022-02-10\n",
      "GET https://earthquake.usgs.gov/fdsnws/event/1/query?format=geojson&starttime=2022-01-21&endtime=2022-01-31\n",
      "GET https://earthquake.usgs.gov/fdsnws/event/1/query?format=geojson&starttime=2022-01-11&endtime=2022-01-21\n",
      "GET https://earthquake.usgs.gov/fdsnws/event/1/query?format=geojson&starttime=2022-01-01&endtime=2022-01-11\n",
      "GET https://earthquake.usgs.gov/fdsnws/event/1/query?format=geojson&starttime=2021-12-22&endtime=2022-01-01\n",
      "GET https://earthquake.usgs.gov/fdsnws/event/1/query?format=geojson&starttime=2021-12-12&endtime=2021-12-22\n",
      "GET https://earthquake.usgs.gov/fdsnws/event/1/query?format=geojson&starttime=2021-12-02&endtime=2021-12-12\n",
      "GET https://earthquake.usgs.gov/fdsnws/event/1/query?format=geojson&starttime=2021-11-22&endtime=2021-12-02\n",
      "GET https://earthquake.usgs.gov/fdsnws/event/1/query?format=geojson&starttime=2021-11-12&endtime=2021-11-22\n",
      "GET https://earthquake.usgs.gov/fdsnws/event/1/query?format=geojson&starttime=2021-11-02&endtime=2021-11-12\n",
      "GET https://earthquake.usgs.gov/fdsnws/event/1/query?format=geojson&starttime=2021-10-23&endtime=2021-11-02\n",
      "GET https://earthquake.usgs.gov/fdsnws/event/1/query?format=geojson&starttime=2021-10-13&endtime=2021-10-23\n",
      "GET https://earthquake.usgs.gov/fdsnws/event/1/query?format=geojson&starttime=2021-10-03&endtime=2021-10-13\n",
      "GET https://earthquake.usgs.gov/fdsnws/event/1/query?format=geojson&starttime=2021-09-23&endtime=2021-10-03\n",
      "GET https://earthquake.usgs.gov/fdsnws/event/1/query?format=geojson&starttime=2021-09-13&endtime=2021-09-23\n",
      "GET https://earthquake.usgs.gov/fdsnws/event/1/query?format=geojson&starttime=2021-09-03&endtime=2021-09-13\n",
      "GET https://earthquake.usgs.gov/fdsnws/event/1/query?format=geojson&starttime=2021-08-24&endtime=2021-09-03\n",
      "GET https://earthquake.usgs.gov/fdsnws/event/1/query?format=geojson&starttime=2021-08-14&endtime=2021-08-24\n",
      "GET https://earthquake.usgs.gov/fdsnws/event/1/query?format=geojson&starttime=2021-08-04&endtime=2021-08-14\n",
      "GET https://earthquake.usgs.gov/fdsnws/event/1/query?format=geojson&starttime=2021-07-25&endtime=2021-08-04\n",
      "GET https://earthquake.usgs.gov/fdsnws/event/1/query?format=geojson&starttime=2021-07-15&endtime=2021-07-25\n",
      "GET https://earthquake.usgs.gov/fdsnws/event/1/query?format=geojson&starttime=2021-07-05&endtime=2021-07-15\n",
      "GET https://earthquake.usgs.gov/fdsnws/event/1/query?format=geojson&starttime=2021-06-25&endtime=2021-07-05\n",
      "GET https://earthquake.usgs.gov/fdsnws/event/1/query?format=geojson&starttime=2021-06-15&endtime=2021-06-25\n",
      "Data saved in `./data/raw_data` directory.\n",
      "\n",
      "CPU times: user 16.8 s, sys: 1.95 s, total: 18.7 s\n",
      "Wall time: 3min 41s\n"
     ]
    }
   ],
   "source": [
    "%%time\n",
    "\n",
    "for endtime in duration_dict:\n",
    "    starttime = duration_dict[endtime]\n",
    "    url = f\"https://earthquake.usgs.gov/fdsnws/event/1/query?format=geojson&starttime={starttime}&endtime={endtime}\"\n",
    "    print(\"GET \" + url)\n",
    "    response = urllib.request.urlopen(url)\n",
    "    raw_json = response.read().decode(\"utf-8\")\n",
    "    data = json.loads(raw_json)\n",
    "\n",
    "    fname = f\"{dir_path}/%s_%s.json\" % (starttime, endtime)\n",
    "    with open(fname, \"w\") as json_file:\n",
    "        json.dump(data, json_file)\n",
    "\n",
    "print(f\"Data saved in `./{dir_path}` directory.\\n\")"
   ]
  },
  {
   "cell_type": "code",
   "execution_count": null,
   "id": "b3764689-09a4-4465-a77a-4ebc5391b7cb",
   "metadata": {},
   "outputs": [],
   "source": []
  }
 ],
 "metadata": {
  "kernelspec": {
   "display_name": "Python 3 (ipykernel)",
   "language": "python",
   "name": "python3"
  },
  "language_info": {
   "codemirror_mode": {
    "name": "ipython",
    "version": 3
   },
   "file_extension": ".py",
   "mimetype": "text/x-python",
   "name": "python",
   "nbconvert_exporter": "python",
   "pygments_lexer": "ipython3",
   "version": "3.11.8"
  }
 },
 "nbformat": 4,
 "nbformat_minor": 5
}
