{
 "cells": [
  {
   "cell_type": "markdown",
   "id": "6d576461-c7cb-4a8c-8de7-9b3d1394cf7d",
   "metadata": {},
   "source": [
    "# Earthquake B-Value Report Generator\n",
    "## COMP41680/COMP47670 Assignment 1 - Task 1: Data Collection"
   ]
  },
  {
   "cell_type": "code",
   "execution_count": 1,
   "id": "c3ff90dd",
   "metadata": {},
   "outputs": [],
   "source": [
    "import json, urllib.request, sys\n",
    "\n",
    "from datetime import datetime, timedelta\n",
    "from pathlib import Path\n",
    "from PyQt5.QtWidgets import QApplication, QWidget, QVBoxLayout, QLabel, QPushButton, QLineEdit, QMessageBox"
   ]
  },
  {
   "cell_type": "markdown",
   "id": "7d32cca7-7db8-4e6c-8ac0-b7154f9cb093",
   "metadata": {},
   "source": [
    "### Step 1: Ask the user how many days in the past they want"
   ]
  },
  {
   "cell_type": "code",
   "execution_count": 2,
   "id": "5ea3c8fc",
   "metadata": {},
   "outputs": [
    {
     "name": "stdout",
     "output_type": "stream",
     "text": [
      "User input: 99\n"
     ]
    }
   ],
   "source": [
    "days = 1\n",
    "\n",
    "class InputDaysWindow(QWidget):\n",
    "    def __init__(self):\n",
    "        super().__init__()\n",
    "        self.initUI()\n",
    "\n",
    "    def initUI(self):\n",
    "        self.setWindowTitle(\"Please Input\")\n",
    "\n",
    "        layout = QVBoxLayout()\n",
    "\n",
    "        label = QLabel(\"How many days in the past do you want?\")\n",
    "        layout.addWidget(label)\n",
    "\n",
    "        self.input_box = QLineEdit()\n",
    "        layout.addWidget(self.input_box)\n",
    "\n",
    "        confirm_button = QPushButton(\"Confirm\")\n",
    "        confirm_button.clicked.connect(self.get_days)\n",
    "        layout.addWidget(confirm_button)\n",
    "\n",
    "        self.setLayout(layout)\n",
    "\n",
    "    def get_days(self):\n",
    "        global days # declare global variable\n",
    "        days_txt = self.input_box.text()\n",
    "        try:\n",
    "            if not days_txt.startswith('-') and not days_txt.isdigit():\n",
    "                raise ValueError(\"Please input an Integer\")\n",
    "                \n",
    "            days = int(days_txt)\n",
    "            if days < 1:\n",
    "                raise ValueError(\"At least 1 day\")\n",
    "                \n",
    "            print(\"User input:\", days)\n",
    "            self.close()\n",
    "        except ValueError as e:\n",
    "            QMessageBox.warning(self, \"Invalid Input\", str(e))\n",
    "\n",
    "app = QApplication(sys.argv)\n",
    "window = InputDaysWindow()\n",
    "window.show()\n",
    "_ = app.exec_() # execute the app, and ignore the execution result, avoid print in Jupiter"
   ]
  },
  {
   "cell_type": "markdown",
   "id": "e6f4568b",
   "metadata": {},
   "source": [
    "### Step 2: Calculate duration dictionary, prepare for generate endpoint url\n",
    "We need to split the request into small pieces. From experience, having 20,000 results in one response can cause a server (503) or resource (400) error on USGS side. Generally, there are fewer than 20,000 earthquakes in 30 days, but in some cases, there may be more than 20,000 earthquakes even in 15 days. Therefore, we choose 10 days as the maximum duration for one request.\n",
    "\n",
    "The endpoint date start at starttime, exclusive endtime."
   ]
  },
  {
   "cell_type": "code",
   "execution_count": 3,
   "id": "6f6b9919-c119-4060-aed5-a6263fd28761",
   "metadata": {},
   "outputs": [
    {
     "name": "stdout",
     "output_type": "stream",
     "text": [
      "{'2024-03-07': '2024-02-26', '2024-02-26': '2024-02-16', '2024-02-16': '2024-02-06', '2024-02-06': '2024-01-27', '2024-01-27': '2024-01-17', '2024-01-17': '2024-01-07', '2024-01-07': '2023-12-28', '2023-12-28': '2023-12-18', '2023-12-18': '2023-12-08', '2023-12-08': '2023-11-29'}\n"
     ]
    }
   ],
   "source": [
    "duration_dict = {}\n",
    "\n",
    "def calculate_start_date(end_date, days=10):\n",
    "    end_date = datetime.strptime(end_date, \"%Y-%m-%d\")\n",
    "    ten_days_ago = end_date - timedelta(days=days)\n",
    "    start_date = ten_days_ago.strftime(\"%Y-%m-%d\")\n",
    "    return start_date\n",
    "\n",
    "today = datetime.now()\n",
    "end_date = today.strftime(\"%Y-%m-%d\")\n",
    "\n",
    "while days > 0:\n",
    "    if days > 10:\n",
    "        start_date = calculate_start_date(end_date)\n",
    "        days -= 10\n",
    "    else:\n",
    "        start_date = calculate_start_date(end_date, days)\n",
    "        days = 0\n",
    "    duration_dict[end_date] = start_date\n",
    "    end_date = start_date\n",
    "    \n",
    "print(duration_dict)"
   ]
  },
  {
   "cell_type": "markdown",
   "id": "e20f734d",
   "metadata": {},
   "source": [
    "### Step 3: Record the duration"
   ]
  },
  {
   "cell_type": "code",
   "execution_count": 4,
   "id": "1a29027c",
   "metadata": {},
   "outputs": [
    {
     "name": "stdout",
     "output_type": "stream",
     "text": [
      "Start:\t 2023-11-29\n",
      "End:\t 2024-03-07\n"
     ]
    }
   ],
   "source": [
    "first_key = next(iter(duration_dict.keys())) # end\n",
    "last_value = list(duration_dict.values())[-1] # start\n",
    "\n",
    "end_date = first_key\n",
    "start_date = last_value\n",
    "\n",
    "with open('data/duration.txt', 'w') as f:\n",
    "    f.write(f\"{start_date}\\n\")\n",
    "    f.write(f\"{end_date}\\n\")\n",
    "    \n",
    "print(\"Start:\\t\", start_date)\n",
    "print(\"End:\\t\", end_date)"
   ]
  },
  {
   "cell_type": "markdown",
   "id": "b3d2a37c",
   "metadata": {},
   "source": [
    "### Step 4: Create raw data directory if it does not already exist, or delete previous data"
   ]
  },
  {
   "cell_type": "code",
   "execution_count": 5,
   "id": "02bcf837",
   "metadata": {},
   "outputs": [
    {
     "name": "stdout",
     "output_type": "stream",
     "text": [
      "Deleted resources under `data/raw_data`\n"
     ]
    }
   ],
   "source": [
    "dir_path = Path(\"data/raw_data\")\n",
    "\n",
    "if dir_path.exists():\n",
    "    for item in dir_path.iterdir():\n",
    "        item.unlink()\n",
    "    print(f\"Deleted resources under `{dir_path}`\")\n",
    "else:\n",
    "    dir_path.mkdir(parents=True, exist_ok=True)\n",
    "    print(f\"mkdir `{dir_path}`\")"
   ]
  },
  {
   "cell_type": "markdown",
   "id": "7a96a27e-afad-487e-a322-ae14c948c489",
   "metadata": {},
   "source": [
    "### Step 5: Collect earthquake data from USGS API, save as JSON"
   ]
  },
  {
   "cell_type": "code",
   "execution_count": 6,
   "id": "8aea1677-db8f-4077-8de2-7806e68b11b6",
   "metadata": {},
   "outputs": [
    {
     "name": "stdout",
     "output_type": "stream",
     "text": [
      "GET https://earthquake.usgs.gov/fdsnws/event/1/query?format=geojson&starttime=2024-02-26&endtime=2024-03-07\n",
      "GET https://earthquake.usgs.gov/fdsnws/event/1/query?format=geojson&starttime=2024-02-16&endtime=2024-02-26\n",
      "GET https://earthquake.usgs.gov/fdsnws/event/1/query?format=geojson&starttime=2024-02-06&endtime=2024-02-16\n",
      "GET https://earthquake.usgs.gov/fdsnws/event/1/query?format=geojson&starttime=2024-01-27&endtime=2024-02-06\n",
      "GET https://earthquake.usgs.gov/fdsnws/event/1/query?format=geojson&starttime=2024-01-17&endtime=2024-01-27\n",
      "GET https://earthquake.usgs.gov/fdsnws/event/1/query?format=geojson&starttime=2024-01-07&endtime=2024-01-17\n",
      "GET https://earthquake.usgs.gov/fdsnws/event/1/query?format=geojson&starttime=2023-12-28&endtime=2024-01-07\n",
      "GET https://earthquake.usgs.gov/fdsnws/event/1/query?format=geojson&starttime=2023-12-18&endtime=2023-12-28\n",
      "GET https://earthquake.usgs.gov/fdsnws/event/1/query?format=geojson&starttime=2023-12-08&endtime=2023-12-18\n",
      "GET https://earthquake.usgs.gov/fdsnws/event/1/query?format=geojson&starttime=2023-11-29&endtime=2023-12-08\n",
      "Data saved in `./data/raw_data` directory.\n",
      "\n",
      "CPU times: user 1.56 s, sys: 259 ms, total: 1.82 s\n",
      "Wall time: 20 s\n"
     ]
    }
   ],
   "source": [
    "%%time\n",
    "\n",
    "for endtime in duration_dict:\n",
    "    starttime = duration_dict[endtime]\n",
    "    url = f\"https://earthquake.usgs.gov/fdsnws/event/1/query?format=geojson&starttime={starttime}&endtime={endtime}\"\n",
    "    print(\"GET \" + url)\n",
    "    response = urllib.request.urlopen(url)\n",
    "    raw_json = response.read().decode(\"utf-8\")\n",
    "    data = json.loads(raw_json)\n",
    "\n",
    "    fname = f\"{dir_path}/%s_%s.json\" % (starttime, endtime)\n",
    "    with open(fname, \"w\") as json_file:\n",
    "        json.dump(data, json_file)\n",
    "\n",
    "print(f\"Data saved in `./{dir_path}` directory.\\n\")"
   ]
  },
  {
   "cell_type": "code",
   "execution_count": null,
   "id": "b3764689-09a4-4465-a77a-4ebc5391b7cb",
   "metadata": {},
   "outputs": [],
   "source": []
  }
 ],
 "metadata": {
  "kernelspec": {
   "display_name": "Python 3 (ipykernel)",
   "language": "python",
   "name": "python3"
  },
  "language_info": {
   "codemirror_mode": {
    "name": "ipython",
    "version": 3
   },
   "file_extension": ".py",
   "mimetype": "text/x-python",
   "name": "python",
   "nbconvert_exporter": "python",
   "pygments_lexer": "ipython3",
   "version": "3.11.5"
  }
 },
 "nbformat": 4,
 "nbformat_minor": 5
}
